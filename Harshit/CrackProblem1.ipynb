{
 "cells": [
  {
   "cell_type": "code",
   "execution_count": 10,
   "metadata": {
    "collapsed": false
   },
   "outputs": [],
   "source": [
    "%matplotlib inline\n",
    "import matplotlib.pyplot as plt\n",
    "import numpy as np\n",
    "import scipy.special as spl\n",
    "import scipy.linalg as la\n",
    "import scipy.integrate as integrate\n",
    "import numpy.polynomial.legendre as lgd\n",
    "import scipy.misc as misc\n",
    "from math import pi,fac"
   ]
  },
  {
   "cell_type": "code",
   "execution_count": 11,
   "metadata": {
    "collapsed": true
   },
   "outputs": [],
   "source": [
    "#Polynomial approximation order \n",
    "N = 15"
   ]
  },
  {
   "cell_type": "code",
   "execution_count": 1,
   "metadata": {
    "collapsed": false
   },
   "outputs": [],
   "source": []
  },
  {
   "cell_type": "code",
   "execution_count": 20,
   "metadata": {
    "collapsed": true
   },
   "outputs": [],
   "source": [
    "\n",
    "\n",
    "def alpha(j,k):\n",
    "    return (np.power(-1,k)*misc.factorial(2*i-2*k))/(misc.factorial(k)*misc.factorial(i-k)*misc.factorial(i-2*k))\n",
    "\n",
    "def term1(i,x,l,m,n):\n",
    "    fVal = 0.0\n",
    "    for k in range(int(np.floor(i/2.0)) + 1):\n",
    "        for j in range(i-2*k):\n",
    "            fVal = fVal + (1-np.power(-1,i-j))*(alpha(i,k)/float((i-2*k-j)))*np.power(x,j+1)*spl.hyp2f1(0.5,float((j+1)/2.0),float((j+3)/2.0),x**2)/(float(j+1))\n",
    "    return fVal*l*m*n/(float(np.power(2,i)))\n",
    "\n",
    "def term2(i,x,l,m,n):\n",
    "    f = lambda x,i: spl.eval_legendre(i,x)*np.log((1-x)/(1+x))/(1-x**2)\n",
    "    fVal = integrate.quad(f,-1.0,x,args=(i))[0]\n",
    "    return l*m*n*fVal\n",
    "\n",
    "def term3(x):\n",
    "    return np.sqrt(1-x**2)"
   ]
  },
  {
   "cell_type": "code",
   "execution_count": 21,
   "metadata": {
    "collapsed": true
   },
   "outputs": [],
   "source": [
    "A = np.zeros(shape=(N,N))\n",
    "b = np.zeros(shape=(N,1))"
   ]
  },
  {
   "cell_type": "code",
   "execution_count": 22,
   "metadata": {
    "collapsed": false
   },
   "outputs": [],
   "source": [
    "x_eqn = np.linspace(-1,1,N+2)[1:N+1]\n",
    "for i in range(N):\n",
    "    for j in range(N):\n",
    "        A[i,j] = term0(j,x_eqn[i]) + term1(j,x_eqn[i],l,m,n) + term2(j,x_eqn[i],l,m,n)\n",
    "    b[i] = np.sqrt(1-x_eqn[i]**2)"
   ]
  },
  {
   "cell_type": "code",
   "execution_count": 23,
   "metadata": {
    "collapsed": false
   },
   "outputs": [],
   "source": [
    "c = la.solve(A,b)"
   ]
  },
  {
   "cell_type": "code",
   "execution_count": 24,
   "metadata": {
    "collapsed": false
   },
   "outputs": [],
   "source": [
    "xd = np.linspace(-1.0,1.0,100)[1:99]\n",
    "phix = lgd.legval(xd,c)\n",
    "vx = phix/(np.sqrt(1-xd**2))\n",
    "vxTest = np.sqrt(1-xd**2)"
   ]
  },
  {
   "cell_type": "code",
   "execution_count": 25,
   "metadata": {
    "collapsed": false
   },
   "outputs": [
    {
     "data": {
      "text/plain": [
       "[<matplotlib.lines.Line2D at 0x7f4adc063810>]"
      ]
     },
     "execution_count": 25,
     "metadata": {},
     "output_type": "execute_result"
    },
    {
     "data": {
      "image/png": "[encoded data removed]",
      "text/plain": [
       "<matplotlib.figure.Figure at 0x7f4ad7c698d0>"
      ]
     },
     "metadata": {},
     "output_type": "display_data"
    }
   ],
   "source": [
    "plt.plot(xd,vx.T)"
   ]
  },
  {
   "cell_type": "code",
   "execution_count": null,
   "metadata": {
    "collapsed": true
   },
   "outputs": [],
   "source": []
  },
  {
   "cell_type": "code",
   "execution_count": null,
   "metadata": {
    "collapsed": true
   },
   "outputs": [],
   "source": []
  },
  {
   "cell_type": "code",
   "execution_count": null,
   "metadata": {
    "collapsed": true
   },
   "outputs": [],
   "source": []
  }
 ],
 "metadata": {
  "kernelspec": {
   "display_name": "Python 2",
   "language": "python",
   "name": "python2"
  },
  "language_info": {
   "codemirror_mode": {
    "name": "ipython",
    "version": 2
   },
   "file_extension": ".py",
   "mimetype": "text/x-python",
   "name": "python",
   "nbconvert_exporter": "python",
   "pygments_lexer": "ipython2",
   "version": "2.7.10"
  }
 },
 "nbformat": 4,
 "nbformat_minor": 0
}
