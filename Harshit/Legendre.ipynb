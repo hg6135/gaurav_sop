{
 "cells": [
  {
   "cell_type": "code",
   "execution_count": 61,
   "metadata": {
    "collapsed": false
   },
   "outputs": [],
   "source": [
    "#packages used\n",
    "\n",
    "#packages to be downloaded\n",
    "import numpy as np\n",
    "\n",
    "import scipy.integrate as integrate\n",
    "from scipy import linalg as la\n",
    "import scipy.special as spl\n",
    "\n",
    "import matplotlib.pyplot as plt\n",
    "%matplotlib inline\n",
    "font = {'family' : 'normal',\n",
    "        'weight' : 'bold',\n",
    "        'size'   : 16}\n",
    "plt.rc('font', **font)\n",
    "\n",
    "#packages pre-installed\n",
    "from math import pi,factorial,log"
   ]
  },
  {
   "cell_type": "code",
   "execution_count": 62,
   "metadata": {
    "collapsed": true
   },
   "outputs": [],
   "source": [
    "a = 1           #Crack Half-Length\n",
    "nu = 0.25       #Poisson's Ratio\n",
    "G = 26.2        #Shear Stress\n",
    "E = 2*G*(1+nu)  #Young's Modulus\n",
    "ks=(1-nu)/(2) #Plain stress Condition"
   ]
  },
  {
   "cell_type": "code",
   "execution_count": 63,
   "metadata": {
    "collapsed": true
   },
   "outputs": [],
   "source": [
    "degree = 20             #degree of Chebyshev's Approximation\n",
    "order = degree + 1      #order of Chebyshev's Approximation\n",
    "\n",
    "#values of x to use for plot\n",
    "X = np.linspace(-a,a,order+1,False)\n",
    "X = np.delete(X,0)\n",
    "Y1 = np.linspace(-0.9999,X[0],10,False)\n",
    "Y2 = np.linspace(0.9999,X[-1],10,False)\n",
    "X = np.concatenate((X,Y1,Y2), axis=0)\n",
    "X.sort()\n",
    "order += 20"
   ]
  },
  {
   "cell_type": "code",
   "execution_count": 64,
   "metadata": {
    "collapsed": true
   },
   "outputs": [],
   "source": [
    "def term1(i,x):\n",
    "    return spl.eval_legendre(i,x)\n",
    "\n",
    "def beta(i,j,k):\n",
    "    if (i - 2*k - j) % 2 == 0:\n",
    "        return 0.0\n",
    "    else:\n",
    "        return float(2*((-1)**k)*factorial(2*(i - k)))/((2**i)*factorial(k)*factorial(i - 2*k)*factorial(i - k)*(i - 2*k - j))\n",
    "    \n",
    "def term2(i,x):\n",
    "    final = 0.0\n",
    "    for k in range(int(i)/2 +1):\n",
    "        for j in range(i - 2*k):\n",
    "            integrand = lambda z:beta(i,j,k)*(z**j)/((a**2 - z**2)**0.5)\n",
    "            final += integrate.quad(integrand,-a,x)[0]\n",
    "    return final\n",
    "\n",
    "def term3(i,x):\n",
    "    func = lambda z: (spl.eval_legendre(i,x) * log((a+z)/(a-z)))/((a**2 - z**2)**0.5)\n",
    "    return integrate.quad(func,-a,x)[0]\n",
    "\n",
    "def lhs(i,x,alphas):\n",
    "    if alphas == 0:\n",
    "        return term1(i,x)\n",
    "    else:\n",
    "        return term1(i,x) + ((a**2 - x**2)**0.5)*alphas*(term2(i,x) - term3(i,x))/(pi*(1-ks))\n",
    "\n",
    "def rhs():\n",
    "    RHS = np.zeros([order,])\n",
    "    return (a**2 - X**2)/(2*(1-ks)*G)"
   ]
  },
  {
   "cell_type": "code",
   "execution_count": 65,
   "metadata": {
    "collapsed": false
   },
   "outputs": [],
   "source": [
    "def Legendre(alphas):\n",
    "    LHS = np.zeros([order,order])\n",
    "    for i in range(order):\n",
    "        print i\n",
    "        temp = np.zeros([order,])\n",
    "        for j in range(order):\n",
    "            temp[j] = lhs(j,X[i],alphas)\n",
    "        LHS[i] = temp    \n",
    "    RHS = rhs()\n",
    "    C = la.solve(LHS,RHS)\n",
    "    Sol = np.zeros([order,])\n",
    "    for i in range(order):\n",
    "        temp = 0.0\n",
    "        for j in range(order):\n",
    "            temp += C[j]*spl.eval_legendre(j,X[i])/((a**2 - X[i]**2)**0.5)\n",
    "        Sol[i] = temp\n",
    "    return 2*Sol"
   ]
  },
  {
   "cell_type": "code",
   "execution_count": 58,
   "metadata": {
    "collapsed": false
   },
   "outputs": [
    {
     "name": "stdout",
     "output_type": "stream",
     "text": [
      "0\n",
      "1\n",
      "2\n",
      "3\n",
      "4\n",
      "5\n",
      "6\n",
      "7\n",
      "8\n",
      "9\n",
      "10\n",
      "11\n",
      "12\n",
      "13\n",
      "14\n",
      "15\n",
      "16\n",
      "17\n",
      "18\n",
      "19\n",
      "20\n",
      "21\n",
      "22\n",
      "23\n",
      "24\n",
      "25\n",
      "26\n",
      "27\n",
      "28\n",
      "29\n",
      "30\n",
      "31\n",
      "32\n",
      "33\n",
      "34\n",
      "35\n",
      "36\n",
      "37\n",
      "38\n",
      "39\n",
      "40\n"
     ]
    }
   ],
   "source": [
    "Sol_1 = Legendre(0.1)"
   ]
  },
  {
   "cell_type": "code",
   "execution_count": 59,
   "metadata": {
    "collapsed": false
   },
   "outputs": [
    {
     "name": "stdout",
     "output_type": "stream",
     "text": [
      "0\n",
      "1\n",
      "2\n",
      "3\n",
      "4\n",
      "5\n",
      "6\n",
      "7\n",
      "8\n",
      "9\n",
      "10\n",
      "11\n",
      "12\n",
      "13\n",
      "14\n",
      "15\n",
      "16\n",
      "17\n",
      "18\n",
      "19\n",
      "20\n",
      "21\n",
      "22\n",
      "23\n",
      "24\n",
      "25\n",
      "26\n",
      "27\n",
      "28\n",
      "29\n",
      "30\n",
      "31\n",
      "32\n",
      "33\n",
      "34\n",
      "35\n",
      "36\n",
      "37\n",
      "38\n",
      "39\n",
      "40\n"
     ]
    }
   ],
   "source": [
    "Sol_2 = Legendre(0.2)"
   ]
  },
  {
   "cell_type": "code",
   "execution_count": 69,
   "metadata": {
    "collapsed": false
   },
   "outputs": [
    {
     "name": "stdout",
     "output_type": "stream",
     "text": [
      "0\n",
      "1\n",
      "2\n",
      "3\n",
      "4\n",
      "5\n",
      "6\n",
      "7\n",
      "8\n",
      "9\n",
      "10\n",
      "11\n",
      "12\n",
      "13\n",
      "14\n",
      "15\n",
      "16\n",
      "17\n",
      "18\n",
      "19\n",
      "20\n",
      "21\n",
      "22\n",
      "23\n",
      "24\n",
      "25\n",
      "26\n",
      "27\n",
      "28\n",
      "29\n",
      "30\n",
      "31\n",
      "32\n",
      "33\n",
      "34\n",
      "35\n",
      "36\n",
      "37\n",
      "38\n",
      "39\n",
      "40\n"
     ]
    }
   ],
   "source": [
    "Sol_3 = Legendre(0.5)"
   ]
  },
  {
   "cell_type": "code",
   "execution_count": 70,
   "metadata": {
    "collapsed": false
   },
   "outputs": [
    {
     "name": "stdout",
     "output_type": "stream",
     "text": [
      "0\n",
      "1\n",
      "2\n",
      "3\n",
      "4\n",
      "5\n",
      "6\n",
      "7\n",
      "8\n",
      "9\n",
      "10\n",
      "11\n",
      "12\n",
      "13\n",
      "14\n",
      "15\n",
      "16\n",
      "17\n",
      "18\n",
      "19\n",
      "20\n",
      "21\n",
      "22\n",
      "23\n",
      "24\n",
      "25\n",
      "26\n",
      "27\n",
      "28\n",
      "29\n",
      "30\n",
      "31\n",
      "32\n",
      "33\n",
      "34\n",
      "35\n",
      "36\n",
      "37\n",
      "38\n",
      "39\n",
      "40\n"
     ]
    }
   ],
   "source": [
    "Classical = Legendre(0.0)"
   ]
  },
  {
   "cell_type": "code",
   "execution_count": 72,
   "metadata": {
    "collapsed": false
   },
   "outputs": [
    {
     "data": {
      "image/png": "[encoded data removed]",
      "text/plain": [
       "<matplotlib.figure.Figure at 0x17f106a0>"
      ]
     },
     "metadata": {},
     "output_type": "display_data"
    }
   ],
   "source": [
    "fig1 = plt.figure(num=1, figsize=(20, 10),\n",
    "                  dpi=50, facecolor='w', edgecolor='k')\n",
    "ax1 = plt.subplot(111)\n",
    "ax1.set_xlabel('x/a')\n",
    "ax1.set_ylabel('normalised crack aperture 2*v(x)/a')\n",
    "ax1.plot(X,Classical,'s',color='k',label=\"Classical\")\n",
    "ax1.plot(X,Sol_1,'-',color='k',label=\"Cohesive\")\n",
    "\n",
    "ax1.plot(X,Sol_2,'-',color='k')\n",
    "ax1.plot(X,Sol_3,'-',color='k')\n",
    "\n",
    "plt.legend(loc=1)\n",
    "plt.show()"
   ]
  },
  {
   "cell_type": "code",
   "execution_count": 73,
   "metadata": {
    "collapsed": false
   },
   "outputs": [],
   "source": [
    "fig1.savefig('Result.png')"
   ]
  },
  {
   "cell_type": "code",
   "execution_count": null,
   "metadata": {
    "collapsed": true
   },
   "outputs": [],
   "source": []
  }
 ],
 "metadata": {
  "kernelspec": {
   "display_name": "Python 2",
   "language": "python",
   "name": "python2"
  },
  "language_info": {
   "codemirror_mode": {
    "name": "ipython",
    "version": 2
   },
   "file_extension": ".py",
   "mimetype": "text/x-python",
   "name": "python",
   "nbconvert_exporter": "python",
   "pygments_lexer": "ipython2",
   "version": "2.7.10"
  }
 },
 "nbformat": 4,
 "nbformat_minor": 0
}
